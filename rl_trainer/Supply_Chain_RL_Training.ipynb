{
  "nbformat": 4,
  "nbformat_minor": 0,
  "metadata": {
    "colab": {
      "provenance": [],
      "gpuType": "T4"
    },
    "kernelspec": {
      "name": "python3",
      "display_name": "Python 3"
    },
    "language_info": {
      "name": "python"
    },
    "accelerator": "GPU"
  },
  "cells": [
    {
      "cell_type": "markdown",
      "source": [
        "# Supply Chain RL Training with PPO\n",
        "\n",
        "This notebook trains a PPO agent for supply chain optimization and exports it to TensorFlow Lite for edge deployment.\n",
        "\n",
        "**Run this in Google Colab for free GPU training!**"
      ],
      "metadata": {
        "id": "title"
      }
    },
    {
      "cell_type": "code",
      "execution_count": null,
      "metadata": {
        "id": "install_deps"
      },
      "outputs": [],
      "source": [
        "# Install required packages\n",
        "!pip install gymnasium==0.29.1 stable-baselines3==2.2.1 tensorflow==2.15.0\n",
        "!pip install matplotlib numpy"
      ]
    },
    {
      "cell_type": "code",
      "source": [
        "# Clone the repository (replace with your actual repo URL)\n",
        "!git clone https://github.com/your-username/supply-chain-rl.git\n",
        "%cd supply-chain-rl/rl_trainer"
      ],
      "metadata": {
        "id": "clone_repo"
      },
      "execution_count": null,
      "outputs": []
    },
    {
      "cell_type": "code",
      "source": [
        "# Import the environment and training script\n",
        "from supply_chain_env import SupplyChainEnv\n",
        "from train import train_model, convert_to_tflite, test_model\n",
        "import matplotlib.pyplot as plt\n",
        "import numpy as np"
      ],
      "metadata": {
        "id": "imports"
      },
      "execution_count": null,
      "outputs": []
    },
    {
      "cell_type": "code",
      "source": [
        "# Test the environment\n",
        "env = SupplyChainEnv()\n",
        "obs, _ = env.reset()\n",
        "print(f\"Initial observation: {obs}\")\n",
        "print(f\"Action space: {env.action_space}\")\n",
        "print(f\"Observation space: {env.observation_space}\")\n",
        "\n",
        "# Take a few random actions\n",
        "for i in range(5):\n",
        "    action = env.action_space.sample()\n",
        "    obs, reward, terminated, truncated, info = env.step(action)\n",
        "    action_names = [\"Hold\", \"Produce\", \"Ship\"]\n",
        "    print(f\"Step {i+1}: Action={action_names[action]}, Reward={reward:.2f}, Obs={obs}\")\n",
        "    if terminated or truncated:\n",
        "        break"
      ],
      "metadata": {
        "id": "test_env"
      },
      "execution_count": null,
      "outputs": []
    },
    {
      "cell_type": "code",
      "source": [
        "# Train the PPO agent\n",
        "print(\"🚀 Starting PPO training...\")\n",
        "model = train_model(timesteps=10000)\n",
        "print(\"✅ Training completed!\")"
      ],
      "metadata": {
        "id": "train_model"
      },
      "execution_count": null,
      "outputs": []
    },
    {
      "cell_type": "code",
      "source": [
        "# Test the trained model\n",
        "print(\"🧪 Testing trained model...\")\n",
        "test_model(episodes=3)"
      ],
      "metadata": {
        "id": "test_model"
      },
      "execution_count": null,
      "outputs": []
    },
    {
      "cell_type": "code",
      "source": [
        "# Convert to TensorFlow Lite\n",
        "print(\"📱 Converting to TensorFlow Lite...\")\n",
        "tflite_model = convert_to_tflite()\n",
        "print(f\"✅ TFLite model size: {len(tflite_model)} bytes\")"
      ],
      "metadata": {
        "id": "convert_tflite"
      },
      "execution_count": null,
      "outputs": []
    },
    {
      "cell_type": "code",
      "source": [
        "# Download the TFLite model\n",
        "from google.colab import files\n",
        "\n",
        "# Download the TensorFlow Lite model\n",
        "files.download('../edge_agent/models/supply_chain_model.tflite')\n",
        "\n",
        "print(\"📥 TensorFlow Lite model downloaded!\")\n",
        "print(\"📋 Next steps:\")\n",
        "print(\"1. Upload the .tflite file to your edge_agent/models/ directory\")\n",
        "print(\"2. Run: docker-compose up --build\")\n",
        "print(\"3. Open http://localhost:3000 to see the dashboard\")"
      ],
      "metadata": {
        "id": "download_model"
      },
      "execution_count": null,
      "outputs": []
    },
    {
      "cell_type": "code",
      "source": [
        "# Visualize training progress (if tensorboard logs exist)\n",
        "import os\n",
        "if os.path.exists('tensorboard_logs'):\n",
        "    %load_ext tensorboard\n",
        "    %tensorboard --logdir tensorboard_logs\n",
        "else:\n",
        "    print(\"No tensorboard logs found. Training logs would appear here.\")"
      ],
      "metadata": {
        "id": "tensorboard"
      },
      "execution_count": null,
      "outputs": []
    }
  ]
}
